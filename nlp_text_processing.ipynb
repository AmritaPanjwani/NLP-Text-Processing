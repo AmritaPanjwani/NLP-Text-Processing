{
 "cells": [
  {
   "cell_type": "markdown",
   "id": "6a1fd385",
   "metadata": {},
   "source": [
    "### Natural language Preprocessing\n",
    "\n",
    "In Artificial intelligence handling numerical data is easy. But most of the data today is available in text. Like tweets, messages, comments, emails and documents.\n",
    "NLP is purely related how the text data can be handled. The machine can only understand numbers,hence it is important to treat the text correctly and convert it to numbers so that the machine is able to process the data. \n",
    "\n",
    "The entire process of handling text data such that its essence, context and useful information is preserved, is called NLP\n",
    "\n",
    "The most population library used for NLP is NLTK (natural language tool kit)"
   ]
  },
  {
   "cell_type": "code",
   "execution_count": 1,
   "id": "59a62117",
   "metadata": {},
   "outputs": [
    {
     "name": "stdout",
     "output_type": "stream",
     "text": [
      "Requirement already satisfied: nltk in /Users/amritapanjwani/opt/anaconda3/lib/python3.9/site-packages (3.7)\r\n",
      "Requirement already satisfied: joblib in /Users/amritapanjwani/opt/anaconda3/lib/python3.9/site-packages (from nltk) (1.1.0)\r\n",
      "Requirement already satisfied: tqdm in /Users/amritapanjwani/opt/anaconda3/lib/python3.9/site-packages (from nltk) (4.64.0)\r\n",
      "Requirement already satisfied: click in /Users/amritapanjwani/opt/anaconda3/lib/python3.9/site-packages (from nltk) (8.0.4)\r\n",
      "Requirement already satisfied: regex>=2021.8.3 in /Users/amritapanjwani/opt/anaconda3/lib/python3.9/site-packages (from nltk) (2022.3.15)\r\n"
     ]
    }
   ],
   "source": [
    "!pip install nltk"
   ]
  },
  {
   "cell_type": "code",
   "execution_count": 2,
   "id": "56e9dd44",
   "metadata": {},
   "outputs": [],
   "source": [
    "#Creating simple text\n",
    "paragraph = \"\"\" Narendra Damodardas Modi (Gujarati: [ˈnəɾendɾə dɑmodəɾˈdɑs ˈmodiː] (listen); born 17 September 1950)[b] is an Indian politician serving as the 14th and current prime minister of India since 2014. Modi was the chief minister of Gujarat from 2001 to 2014 and is the Member of Parliament from Varanasi. He is a member of the Bharatiya Janata Party (BJP) and of the Rashtriya Swayamsevak Sangh (RSS), a right-wing Hindu nationalist paramilitary volunteer organisation. He is the longest serving prime minister from outside the Indian National Congress.\n",
    "\"\"\""
   ]
  },
  {
   "cell_type": "code",
   "execution_count": 3,
   "id": "b283d46d",
   "metadata": {},
   "outputs": [
    {
     "data": {
      "text/plain": [
       "' Narendra Damodardas Modi (Gujarati: [ˈnəɾendɾə dɑmodəɾˈdɑs ˈmodiː] (listen); born 17 September 1950)[b] is an Indian politician serving as the 14th and current prime minister of India since 2014. Modi was the chief minister of Gujarat from 2001 to 2014 and is the Member of Parliament from Varanasi. He is a member of the Bharatiya Janata Party (BJP) and of the Rashtriya Swayamsevak Sangh (RSS), a right-wing Hindu nationalist paramilitary volunteer organisation. He is the longest serving prime minister from outside the Indian National Congress.\\n'"
      ]
     },
     "execution_count": 3,
     "metadata": {},
     "output_type": "execute_result"
    }
   ],
   "source": [
    "paragraph"
   ]
  },
  {
   "cell_type": "markdown",
   "id": "047e8ca3",
   "metadata": {},
   "source": [
    "### Steps in Text Processing\n",
    "- Convert a document/ paragraph into sentences\n",
    "- Convert sentences to words\n",
    "- Tokenize the words\n",
    "- Create vectors for each word"
   ]
  },
  {
   "cell_type": "markdown",
   "id": "f607cbf4",
   "metadata": {},
   "source": [
    "### Libraries used:\n",
    "- nltk.corpus to get stopwords\n",
    "- nltk.sent_tokenize to create sentences out of a paragraph\n",
    "- nltk.word_tokenize to create words out of each sentence\n",
    "- nltk.stem to use stemmers and lemmatizers for tokennizing the words"
   ]
  },
  {
   "cell_type": "markdown",
   "id": "aafa4d86",
   "metadata": {},
   "source": [
    "### Definitions:\n",
    "- stopwords: the words in any languages that do not add any context or meaning but are present as part of grammar are called stopwords. Example of stopwords: 'of'  , 'was' , 'the'"
   ]
  },
  {
   "cell_type": "code",
   "execution_count": 4,
   "id": "667d741a",
   "metadata": {},
   "outputs": [
    {
     "name": "stderr",
     "output_type": "stream",
     "text": [
      "[nltk_data] Downloading package stopwords to\n",
      "[nltk_data]     /Users/amritapanjwani/nltk_data...\n",
      "[nltk_data]   Package stopwords is already up-to-date!\n"
     ]
    },
    {
     "data": {
      "text/plain": [
       "True"
      ]
     },
     "execution_count": 4,
     "metadata": {},
     "output_type": "execute_result"
    }
   ],
   "source": [
    "import nltk\n",
    "from nltk.corpus import stopwords\n",
    "nltk.download('stopwords')"
   ]
  },
  {
   "cell_type": "code",
   "execution_count": 5,
   "id": "bb0441a5",
   "metadata": {},
   "outputs": [
    {
     "data": {
      "text/plain": [
       "179"
      ]
     },
     "execution_count": 5,
     "metadata": {},
     "output_type": "execute_result"
    }
   ],
   "source": [
    "len(stopwords.words('english'))"
   ]
  },
  {
   "cell_type": "code",
   "execution_count": 6,
   "id": "ec911d99",
   "metadata": {},
   "outputs": [],
   "source": [
    "#Create sentences\n",
    "sentences = nltk.sent_tokenize(paragraph)"
   ]
  },
  {
   "cell_type": "code",
   "execution_count": 7,
   "id": "ce4b937b",
   "metadata": {},
   "outputs": [
    {
     "name": "stdout",
     "output_type": "stream",
     "text": [
      "[' Narendra Damodardas Modi (Gujarati: [ˈnəɾendɾə dɑmodəɾˈdɑs ˈmodiː] (listen); born 17 September 1950)[b] is an Indian politician serving as the 14th and current prime minister of India since 2014.', 'Modi was the chief minister of Gujarat from 2001 to 2014 and is the Member of Parliament from Varanasi.', 'He is a member of the Bharatiya Janata Party (BJP) and of the Rashtriya Swayamsevak Sangh (RSS), a right-wing Hindu nationalist paramilitary volunteer organisation.', 'He is the longest serving prime minister from outside the Indian National Congress.']\n"
     ]
    }
   ],
   "source": [
    "print(sentences)"
   ]
  },
  {
   "cell_type": "markdown",
   "id": "a2fcdb52",
   "metadata": {},
   "source": [
    "### Cleaning the text : Step I\n",
    "- Any text may consists of alphabets, numbers, special characters and symbols.\n",
    "- For text analysis it is important to remove all the other characters except alphabets and numbers.\n",
    "- In order to do so following loop is run to check each sentence at a time\n",
    "- For each sentence regex is used to clean the text\n",
    "- Next, all letters are converted to lowercase\n",
    "- Finally the cleaned text is appended to the user created corpus list as shown below:"
   ]
  },
  {
   "cell_type": "code",
   "execution_count": 8,
   "id": "d7e5ca34",
   "metadata": {},
   "outputs": [],
   "source": [
    "#Clean text\n",
    "import re\n",
    "corpus = []\n",
    "for i in range(len(sentences)):\n",
    "    review = re.sub('[^a-zA-Z0-9]',' ', sentences[i])\n",
    "    review = review.lower()\n",
    "    corpus.append(review)"
   ]
  },
  {
   "cell_type": "code",
   "execution_count": 9,
   "id": "7de29fc2",
   "metadata": {},
   "outputs": [
    {
     "data": {
      "text/plain": [
       "[' narendra damodardas modi  gujarati    n  end   d mod   d s  modi    listen   born 17 september 1950  b  is an indian politician serving as the 14th and current prime minister of india since 2014 ',\n",
       " 'modi was the chief minister of gujarat from 2001 to 2014 and is the member of parliament from varanasi ',\n",
       " 'he is a member of the bharatiya janata party  bjp  and of the rashtriya swayamsevak sangh  rss   a right wing hindu nationalist paramilitary volunteer organisation ',\n",
       " 'he is the longest serving prime minister from outside the indian national congress ']"
      ]
     },
     "execution_count": 9,
     "metadata": {},
     "output_type": "execute_result"
    }
   ],
   "source": [
    "corpus"
   ]
  },
  {
   "cell_type": "markdown",
   "id": "5fcbcdc0",
   "metadata": {},
   "source": [
    "### Stemming and Lemmatization\n",
    "- different words are written different. For example: walk is one verb, but in a text it can be present as: walking, walk , walked. Hence it is important to present such words in their root form. To do so two techniques can be used:\n",
    "- Stemmpling: In this technique each word is converted to a stem form by removing few characters towards the end of each word. These stems may or may not have a meaning, but it is a faster process.\n",
    "- Lemmatization: In this technique each word is converted to its root word, which is like the original simple word and has some genuine meaning. This process of reaching upto the roots requires more efforts and hence it is a time taking process.\n",
    "\n",
    "- Both the methods have their own pros and cons. Depending on different usecases different methods are used.\n"
   ]
  },
  {
   "cell_type": "markdown",
   "id": "bff5d502",
   "metadata": {},
   "source": [
    "### Cleaning the text : Step II (with stemming)\n",
    "- In the below process for each sentence words are created using: nltk.word_tokenize\n",
    "- For each word if it is not in stopwords it is processed further\n",
    "- Stemmer is used to create stem of each word\n",
    "- All stems are finally appended to the cleaned_text list"
   ]
  },
  {
   "cell_type": "code",
   "execution_count": 10,
   "id": "6e105edf",
   "metadata": {},
   "outputs": [],
   "source": [
    "#Apply Stemming\n",
    "from nltk.stem import PorterStemmer"
   ]
  },
  {
   "cell_type": "code",
   "execution_count": 11,
   "id": "feb78650",
   "metadata": {},
   "outputs": [],
   "source": [
    "#Instantiating the stemmer object\n",
    "stemmer = PorterStemmer()"
   ]
  },
  {
   "cell_type": "code",
   "execution_count": 12,
   "id": "607cc8d0",
   "metadata": {},
   "outputs": [
    {
     "name": "stdout",
     "output_type": "stream",
     "text": [
      "narendra\n",
      "damodarda\n",
      "modi\n",
      "gujarati\n",
      "n\n",
      "end\n",
      "mod\n",
      "modi\n",
      "listen\n",
      "born\n",
      "17\n",
      "septemb\n",
      "1950\n",
      "b\n",
      "indian\n",
      "politician\n",
      "serv\n",
      "14th\n",
      "current\n",
      "prime\n",
      "minist\n",
      "india\n",
      "sinc\n",
      "2014\n",
      "modi\n",
      "chief\n",
      "minist\n",
      "gujarat\n",
      "2001\n",
      "2014\n",
      "member\n",
      "parliament\n",
      "varanasi\n",
      "member\n",
      "bharatiya\n",
      "janata\n",
      "parti\n",
      "bjp\n",
      "rashtriya\n",
      "swayamsevak\n",
      "sangh\n",
      "rss\n",
      "right\n",
      "wing\n",
      "hindu\n",
      "nationalist\n",
      "paramilitari\n",
      "volunt\n",
      "organis\n",
      "longest\n",
      "serv\n",
      "prime\n",
      "minist\n",
      "outsid\n",
      "indian\n",
      "nation\n",
      "congress\n"
     ]
    },
    {
     "data": {
      "text/plain": [
       "57"
      ]
     },
     "execution_count": 12,
     "metadata": {},
     "output_type": "execute_result"
    }
   ],
   "source": [
    "cleaned_text = []\n",
    "for i in corpus:\n",
    "    words = nltk.word_tokenize(i)\n",
    "    for word in words:\n",
    "        if word not in set(stopwords.words('english')):\n",
    "            print(stemmer.stem(word))\n",
    "            cleaned_text.append(word)\n",
    "\n",
    "len(cleaned_text)"
   ]
  },
  {
   "cell_type": "markdown",
   "id": "7d2dee86",
   "metadata": {},
   "source": [
    "### Cleaning the text : Step II (with lemmatization)\n",
    "- WordNetLemmatizer is used for lemmatization\n",
    "- First words are created using word.tokenize\n",
    "- Then each word is checked for if it is a stopword, if yes it is removed, else the further process continues\n",
    "- Further lemmatizer is applied to create root of each word\n",
    "- Finally all roots are appended to the list of clean_text"
   ]
  },
  {
   "cell_type": "code",
   "execution_count": 13,
   "id": "6372770f",
   "metadata": {},
   "outputs": [
    {
     "name": "stderr",
     "output_type": "stream",
     "text": [
      "[nltk_data] Downloading package wordnet to\n",
      "[nltk_data]     /Users/amritapanjwani/nltk_data...\n",
      "[nltk_data]   Package wordnet is already up-to-date!\n",
      "[nltk_data] Downloading package omw-1.4 to\n",
      "[nltk_data]     /Users/amritapanjwani/nltk_data...\n",
      "[nltk_data]   Package omw-1.4 is already up-to-date!\n"
     ]
    },
    {
     "data": {
      "text/plain": [
       "True"
      ]
     },
     "execution_count": 13,
     "metadata": {},
     "output_type": "execute_result"
    }
   ],
   "source": [
    "from nltk.stem import WordNetLemmatizer\n",
    "nltk.download('wordnet')\n",
    "nltk.download('omw-1.4')"
   ]
  },
  {
   "cell_type": "code",
   "execution_count": 14,
   "id": "70a09dd0",
   "metadata": {},
   "outputs": [
    {
     "name": "stdout",
     "output_type": "stream",
     "text": [
      "narendra\n",
      "damodardas\n",
      "modi\n",
      "gujarati\n",
      "n\n",
      "end\n",
      "mod\n",
      "modi\n",
      "listen\n",
      "born\n",
      "17\n",
      "september\n",
      "1950\n",
      "b\n",
      "indian\n",
      "politician\n",
      "serving\n",
      "14th\n",
      "current\n",
      "prime\n",
      "minister\n",
      "india\n",
      "since\n",
      "2014\n",
      "modi\n",
      "chief\n",
      "minister\n",
      "gujarat\n",
      "2001\n",
      "2014\n",
      "member\n",
      "parliament\n",
      "varanasi\n",
      "member\n",
      "bharatiya\n",
      "janata\n",
      "party\n",
      "bjp\n",
      "rashtriya\n",
      "swayamsevak\n",
      "sangh\n",
      "r\n",
      "right\n",
      "wing\n",
      "hindu\n",
      "nationalist\n",
      "paramilitary\n",
      "volunteer\n",
      "organisation\n",
      "longest\n",
      "serving\n",
      "prime\n",
      "minister\n",
      "outside\n",
      "indian\n",
      "national\n",
      "congress\n"
     ]
    },
    {
     "data": {
      "text/plain": [
       "57"
      ]
     },
     "execution_count": 14,
     "metadata": {},
     "output_type": "execute_result"
    }
   ],
   "source": [
    "lemmatizer = WordNetLemmatizer()\n",
    "cleaned_text = []\n",
    "for i in corpus:\n",
    "    words = nltk.word_tokenize(i)\n",
    "    for word in words:\n",
    "        if word not in set(stopwords.words('english')):\n",
    "            print(lemmatizer.lemmatize(word))\n",
    "            cleaned_text.append(word)\n",
    "\n",
    "len(cleaned_text)"
   ]
  },
  {
   "cell_type": "markdown",
   "id": "5fa5f74f",
   "metadata": {},
   "source": [
    "#### (Both methods stemming and lemmatization are shown above, any one of them can be used)\n",
    "#### Compare the results of stemming and lemmatization in the above two steps"
   ]
  },
  {
   "cell_type": "markdown",
   "id": "3d8ef6f2",
   "metadata": {},
   "source": [
    "### Last step of Text Processing: Vectorization\n",
    "- Converting the words into a list of 1-d arrays or vectors is called vectorization. This step is important as it transforms the words into numbers which are usable by the machine learning or deep learning algorithms. The vectors so generated are also called as <b>word-embeddings</b>\n",
    "\n",
    "#### There are different vectorization techniques:\n",
    "- Bag of words (CountVectorizer)\n",
    "- tfidf (TfidfVectorizer)\n",
    "- Word2Vec\n"
   ]
  },
  {
   "cell_type": "markdown",
   "id": "36b89c35",
   "metadata": {},
   "source": [
    "#### BOW summary: \n",
    "- This technique provides all the unique words present in the training dataset and hence it is called bag of words. The list of words is ordered as per the frequency or importance of the word in the training dataset. These words are considered as features. (Specific terminology used in Data Science). \n",
    "\n",
    "- The words are always listed in order of their importance in the corpus.For each sentence or document we get a list of zeros and frequencies based on whether a word is present in that sentence or not. \n",
    "\n",
    "- Hence if there are total n words in the training dataset and m sentences , we get a m x n matrix of zeros and frequencies. This matrix is called sparse matrix. Like this the entire text is converted to numbers and vectorization happens.\n",
    "\n",
    "#### Parameters of CountVectorizer:\n",
    "- analyzer: {word, character}This parameter lets the countvectorizer know if to consider a word as a feature or a character. By default it considers a 'word' as a feature\n",
    "- ngram_range: (min, max) , this tells if we need to take only one word as a feature or group of 2 or three words together as one feature. For exampl: \"medical document\" is a phrase with two words, it can be considered as 1 single feature by countvectorizer if ngram_range is mentioned as(1,2). This allows the countvectorizer to take all unigrams and bigrams as features.\n",
    "- token_patthern: it takes a string value, it tells what kind of tokens can be considered. Default token pattern to denote a word is: r”(?u)\\b\\w\\w+\\b”\n",
    "- stop_words: it takes a string which denotes language like 'english'. This tells countvectorizer to remove all stop_words\n",
    "- lowercase: {true/ false} this tells the countvectorizer to convert all text into lower case before tokenzing. Default value is 'true'.\n",
    "- max_feautres: if there is large text we can let the countvectorizer select only top certain number of features based on their importance or frequency of occurrence in the training dataset. It accepts integer values.\n",
    "- vocabulary: this results in a mapping of each word(feature) with its index. The list of vocabulary displays such that most important or most occurring features shows up on top.\n",
    "- binary: (true/ false): this tells the countvectorizer if it has to create a matrix with frequency of each feature or not. If frequency is required binary: false. This is the default value. If binary: true, this will count only presence or absence of a word in a sentence. Presence is captured as 1 and absence is captured as 0. Even if a word occurs several number of times it a sentence it will be reflected as 1 only.\n",
    "\n",
    "\n"
   ]
  },
  {
   "cell_type": "code",
   "execution_count": 15,
   "id": "d6a5e6f3",
   "metadata": {},
   "outputs": [],
   "source": [
    "#Working on bag of words:\n",
    "# We use the library countvectorizer to work on bag of words(BOW)\n",
    "\n",
    "from sklearn.feature_extraction.text import CountVectorizer\n"
   ]
  },
  {
   "cell_type": "markdown",
   "id": "cf4cb5ac",
   "metadata": {},
   "source": [
    "#### Steps involved:\n",
    "- First clean the text with all other irrelevant characters\n",
    "- Convert all characters to lower case\n",
    "- split the sentences to words\n",
    "- convert the words to their root form using lemmatizer while removing the stopwords\n",
    "- Finally join all the lemmatized roots and append to corpus_new list\n",
    "- After all the above \"cleaning steps\" its time to convert these words to vectors\n",
    "- cv is the CountVectorizer object, fit_transform it to the corpus_new to generate vectors for all the words"
   ]
  },
  {
   "cell_type": "code",
   "execution_count": 16,
   "id": "8daae3cf",
   "metadata": {},
   "outputs": [],
   "source": [
    "corpus_new = []\n",
    "cv = CountVectorizer()\n",
    "for i in range(len(sentences)):\n",
    "    review = re.sub('[^a-zA-Z]',' ', sentences[i])\n",
    "    review = review.lower()\n",
    "    review = review.split()\n",
    "    review = [lemmatizer.lemmatize(word) for word in review if not word in set(stopwords.words('english'))]\n",
    "    review = ' '.join(review)\n",
    "    corpus_new.append(review)"
   ]
  },
  {
   "cell_type": "code",
   "execution_count": 17,
   "id": "4dcdfa3a",
   "metadata": {},
   "outputs": [],
   "source": [
    "#Creating the vectors for all words in all sentences\n",
    "x = cv.fit_transform(corpus_new)"
   ]
  },
  {
   "cell_type": "code",
   "execution_count": 18,
   "id": "5b3f95de",
   "metadata": {},
   "outputs": [
    {
     "data": {
      "text/plain": [
       "{'narendra': 20,\n",
       " 'damodardas': 6,\n",
       " 'modi': 19,\n",
       " 'gujarati': 9,\n",
       " 'end': 7,\n",
       " 'mod': 18,\n",
       " 'listen': 14,\n",
       " 'born': 2,\n",
       " 'september': 33,\n",
       " 'indian': 12,\n",
       " 'politician': 28,\n",
       " 'serving': 34,\n",
       " 'th': 37,\n",
       " 'current': 5,\n",
       " 'prime': 29,\n",
       " 'minister': 17,\n",
       " 'india': 11,\n",
       " 'since': 35,\n",
       " 'chief': 3,\n",
       " 'gujarat': 8,\n",
       " 'member': 16,\n",
       " 'parliament': 26,\n",
       " 'varanasi': 38,\n",
       " 'bharatiya': 0,\n",
       " 'janata': 13,\n",
       " 'party': 27,\n",
       " 'bjp': 1,\n",
       " 'rashtriya': 30,\n",
       " 'swayamsevak': 36,\n",
       " 'sangh': 32,\n",
       " 'right': 31,\n",
       " 'wing': 40,\n",
       " 'hindu': 10,\n",
       " 'nationalist': 22,\n",
       " 'paramilitary': 25,\n",
       " 'volunteer': 39,\n",
       " 'organisation': 23,\n",
       " 'longest': 15,\n",
       " 'outside': 24,\n",
       " 'national': 21,\n",
       " 'congress': 4}"
      ]
     },
     "execution_count": 18,
     "metadata": {},
     "output_type": "execute_result"
    }
   ],
   "source": [
    "# Check all words using vocabulary_\n",
    "cv.vocabulary_"
   ]
  },
  {
   "cell_type": "markdown",
   "id": "ba46b5e0",
   "metadata": {},
   "source": [
    "#### In the above scenario all these numbers are the index, not the frequency"
   ]
  },
  {
   "cell_type": "code",
   "execution_count": 19,
   "id": "33f58b77",
   "metadata": {},
   "outputs": [
    {
     "data": {
      "text/plain": [
       "4"
      ]
     },
     "execution_count": 19,
     "metadata": {},
     "output_type": "execute_result"
    }
   ],
   "source": [
    "#There are total 4 sentences in corpus_new\n",
    "len(corpus_new)"
   ]
  },
  {
   "cell_type": "code",
   "execution_count": 20,
   "id": "70c297a7",
   "metadata": {},
   "outputs": [
    {
     "data": {
      "text/plain": [
       "(4, 41)"
      ]
     },
     "execution_count": 20,
     "metadata": {},
     "output_type": "execute_result"
    }
   ],
   "source": [
    "# x is the sparse matrix of 4 sentences and 41 unique words in the dataset\n",
    "x.shape"
   ]
  },
  {
   "cell_type": "code",
   "execution_count": 21,
   "id": "37d78f7c",
   "metadata": {},
   "outputs": [
    {
     "data": {
      "text/plain": [
       "array([[0, 0, 1, 0, 0, 1, 1, 1, 0, 1, 0, 1, 1, 0, 1, 0, 0, 1, 1, 2, 1, 0,\n",
       "        0, 0, 0, 0, 0, 0, 1, 1, 0, 0, 0, 1, 1, 1, 0, 1, 0, 0, 0]])"
      ]
     },
     "execution_count": 21,
     "metadata": {},
     "output_type": "execute_result"
    }
   ],
   "source": [
    "#Checking the first row of the matrix for sentence one\n",
    "x[0].toarray()"
   ]
  },
  {
   "cell_type": "markdown",
   "id": "8ba7ee25",
   "metadata": {},
   "source": [
    "#### Disadvantages of Bag Of Words technique of vectorization:\n",
    "- It works great for smaller datsets with smaller bag of words. But as the dataset increases, the computation cost of it increases.\n",
    "\n",
    "- Out of vocabulary: if a word is not there while creating BOWs, then if the word appears later during the testing stage, it cannot be identified or treated by the model.\n",
    "\n",
    "- Lack of semantic meaning: The presence of word \"not\": the entire sentence is same but \"not\" is the only word that is new. In this case, the assignment of 0 and 1 would be exactly same for both sentences, which makes it look that two sentences are similar. These vectors are very close to each other. But infact by just one word \"not\" the two sentences are totally opposite to each other.This is called lack of semantic meaning. It does not tell which word to focus more on."
   ]
  },
  {
   "cell_type": "markdown",
   "id": "64628048",
   "metadata": {},
   "source": [
    "### TFIDF Vectorizer:\n",
    "##### To give importance to some words in a sentence to get their semantic meaning we use TFIDF. Aim: some of the words that are rare in that sentence must be given more weightage."
   ]
  },
  {
   "cell_type": "markdown",
   "id": "d402acd5",
   "metadata": {},
   "source": [
    "#### Step for TFIDF calculation:\n",
    "- TF = number of repetitions of word in sentence/ total number of words in sentence\n",
    "\n",
    "- IDF = LOGe(total number of sentences/ number of sentences containing the word)\n",
    "\n",
    "- TFIDF(word1 in sentence1) = TF(word1 in sentence1) * IDF(word1 in sentence1)\n",
    "\n",
    "Like this TFIDF of all words in all sentences is assigned a score. This helps capture semantic information from the sentences. Frequent words have smaller tfidf score and rare words have higher tfidf score\n",
    "##### Advantages: intuitive, semantic, word importance is getting captured\n",
    "##### Disadvantage: with large data sparisty would be there , oov(out of vocabulary)"
   ]
  },
  {
   "cell_type": "markdown",
   "id": "192684ac",
   "metadata": {},
   "source": [
    "#### Note on ngrams_range attribute in countvectorizer:\n",
    "- ngram_range = (3,3) it will select triagrams.\n",
    "- ngram_range = (2,3) it will capture all bigrams and triagrams.\n",
    "- ngram_range = (1,3) it will select unigram , biagrams and triagrams.\n",
    "\n",
    "#### Noted: Tfidfvectorizer has exact same parameters as CountVectorizer"
   ]
  },
  {
   "cell_type": "code",
   "execution_count": 22,
   "id": "404385bd",
   "metadata": {},
   "outputs": [],
   "source": [
    "from sklearn.feature_extraction.text import TfidfVectorizer\n",
    "tf = TfidfVectorizer()"
   ]
  },
  {
   "cell_type": "code",
   "execution_count": 23,
   "id": "a050e21d",
   "metadata": {},
   "outputs": [],
   "source": [
    "x=tf.fit_transform(corpus_new)"
   ]
  },
  {
   "cell_type": "code",
   "execution_count": 24,
   "id": "e2a21cfb",
   "metadata": {},
   "outputs": [
    {
     "data": {
      "text/plain": [
       "'narendra damodardas modi gujarati n end mod modi listen born september b indian politician serving th current prime minister india since'"
      ]
     },
     "execution_count": 24,
     "metadata": {},
     "output_type": "execute_result"
    }
   ],
   "source": [
    "corpus_new[0]"
   ]
  },
  {
   "cell_type": "code",
   "execution_count": 25,
   "id": "0638412e",
   "metadata": {},
   "outputs": [
    {
     "data": {
      "text/plain": [
       "array([[0.        , 0.        , 0.23729913, 0.        , 0.        ,\n",
       "        0.23729913, 0.23729913, 0.23729913, 0.        , 0.23729913,\n",
       "        0.        , 0.23729913, 0.18708936, 0.        , 0.23729913,\n",
       "        0.        , 0.        , 0.15146496, 0.23729913, 0.37417871,\n",
       "        0.23729913, 0.        , 0.        , 0.        , 0.        ,\n",
       "        0.        , 0.        , 0.        , 0.23729913, 0.18708936,\n",
       "        0.        , 0.        , 0.        , 0.23729913, 0.18708936,\n",
       "        0.23729913, 0.        , 0.23729913, 0.        , 0.        ,\n",
       "        0.        ]])"
      ]
     },
     "execution_count": 25,
     "metadata": {},
     "output_type": "execute_result"
    }
   ],
   "source": [
    "x[0].toarray()"
   ]
  },
  {
   "cell_type": "code",
   "execution_count": 26,
   "id": "adc3b8a7",
   "metadata": {},
   "outputs": [
    {
     "data": {
      "text/plain": [
       "(4, 41)"
      ]
     },
     "execution_count": 26,
     "metadata": {},
     "output_type": "execute_result"
    }
   ],
   "source": [
    "x.shape"
   ]
  },
  {
   "cell_type": "markdown",
   "id": "7affa9f7",
   "metadata": {},
   "source": [
    "word embeddings is a technique that converts words into vectors\n",
    "Two methods of word emebeddings:\n",
    "- 1.Count/frequency of words (BOW, TFIDF, OHE)\n",
    "- 2.Deep Learning trained model(word2vec: cbow, skipgram)\n",
    "\n",
    "we have already covered the first approach now switching to word2vec\n",
    "This requires understanding of ANN, loss functions and all"
   ]
  },
  {
   "cell_type": "markdown",
   "id": "510056b4",
   "metadata": {},
   "source": [
    "#### WORD2VEC:\n",
    "It is a word_embedding or vectorization technique that is based on neural networks (deep learning). In word2vec each word is converted to a vector of <b>\"LIMITED DIMENSIONS\"</b>. It will try to reduce sparsity , this means you would not find any 0's or 1's. It ensures that the semantic meaning is maintained. It would assign vectors such that if these vectors are plotted in multidimensional space words with similar meaning will be plotted close to each other."
   ]
  },
  {
   "cell_type": "markdown",
   "id": "65f66fd0",
   "metadata": {},
   "source": [
    "### There are two word2vec architecures: CBOW and skipgram\n",
    "\n",
    "#### Some basic terminologies:\n",
    "- CBOW ( continuous bag of words)\n",
    "- corpus: means group of sentences\n",
    "- window size: number of continuous words you take\n",
    "- window size is a hyperparameter, the bigger the better the model\n",
    "- <b>Example:</b> if suppose window size is 5 and you consider the third word as the output word then the remaining 4 words on either sides are considered as the input or context words.\n",
    "\n",
    "- <b>Practical example:</b> John is working as consultant.\n",
    "- output word: \"working\"  \n",
    "- input words: \"john is as consultant\"\n",
    "\n",
    "- Note: target word is always taken in middle to get input context on both sides of the target\n",
    "\n",
    "- <b>Aim of word2vec:</b> take the text and generate words, such that semantic meaning is captured\n",
    "\n",
    "- These independent features and the target features and their corresponding BOW representation is given to the fully connected layer (architecture of neural networks is used)"
   ]
  },
  {
   "cell_type": "markdown",
   "id": "21947fc0",
   "metadata": {},
   "source": [
    "#### Brief description\n",
    "Different weights are initialized, then it passes through softmax layer and loss is calculated. \n",
    "So as the neurons move from input through hidden layer and output this is called forward propagation.\n",
    "Once it passes through softmax layer, loss is calculated and weight are updated this is called backward propagation.\n",
    "This continues till the time minimum loss is obtained the weights assigned at each transformation combined together results in embeddings\n",
    "This is the process of Continuous Bag of Words method (CBOW)\n",
    "\n",
    "<b>Note:</b> Basics of ANN are important to understand the indepth architecture of word2vec.\n",
    "\n",
    "<b>Skip gram:</b> is same as CBOW, just input and output are reversed. Both CBOW and skipgram are good, if larger data is there use SKIPGRAM.\n",
    "\n",
    "<b>Python library used: gensim</b>"
   ]
  },
  {
   "cell_type": "code",
   "execution_count": 27,
   "id": "d3ac91cd",
   "metadata": {},
   "outputs": [
    {
     "name": "stdout",
     "output_type": "stream",
     "text": [
      "Requirement already satisfied: gensim in /Users/amritapanjwani/opt/anaconda3/lib/python3.9/site-packages (4.1.2)\n",
      "Requirement already satisfied: smart-open>=1.8.1 in /Users/amritapanjwani/opt/anaconda3/lib/python3.9/site-packages (from gensim) (5.1.0)\n",
      "Requirement already satisfied: scipy>=0.18.1 in /Users/amritapanjwani/opt/anaconda3/lib/python3.9/site-packages (from gensim) (1.7.3)\n",
      "Requirement already satisfied: numpy>=1.17.0 in /Users/amritapanjwani/opt/anaconda3/lib/python3.9/site-packages (from gensim) (1.21.5)\n"
     ]
    }
   ],
   "source": [
    "!pip install gensim"
   ]
  },
  {
   "cell_type": "code",
   "execution_count": 28,
   "id": "59955de0",
   "metadata": {},
   "outputs": [],
   "source": [
    "import gensim"
   ]
  },
  {
   "cell_type": "code",
   "execution_count": 29,
   "id": "0ed9f75d",
   "metadata": {},
   "outputs": [],
   "source": [
    "from gensim.models import word2vec"
   ]
  },
  {
   "cell_type": "markdown",
   "id": "4e21105a",
   "metadata": {},
   "source": [
    "<b>Generally pretrained embeddings are used for word2vec. You can also train your own data and create word embeddings. Here pretrained embeddings are used \"word2vec-google-news-300\" This means word2vec embeddings are created by getting trained on google news data and these embeddings are of the dimension 300.</b>"
   ]
  },
  {
   "cell_type": "code",
   "execution_count": 30,
   "id": "89731ff0",
   "metadata": {},
   "outputs": [],
   "source": [
    "import gensim.downloader as api\n",
    "wv = api.load('word2vec-google-news-300')\n",
    "vec_sun = wv['sun']"
   ]
  },
  {
   "cell_type": "code",
   "execution_count": 31,
   "id": "1354496d",
   "metadata": {},
   "outputs": [
    {
     "data": {
      "text/plain": [
       "array([-0.02600098,  0.16894531,  0.03955078, -0.03149414,  0.07470703,\n",
       "       -0.14160156,  0.21191406, -0.30078125, -0.06347656,  0.10302734,\n",
       "        0.22265625,  0.12304688,  0.02416992,  0.01831055, -0.27929688,\n",
       "        0.26757812, -0.06640625, -0.02685547,  0.30664062, -0.15332031,\n",
       "       -0.23828125,  0.33984375, -0.02709961, -0.1484375 , -0.10839844,\n",
       "       -0.08496094,  0.20117188,  0.1796875 , -0.03039551, -0.09375   ,\n",
       "       -0.36523438, -0.04174805, -0.25390625, -0.16699219, -0.27539062,\n",
       "       -0.12890625, -0.15820312, -0.36328125,  0.00177765,  0.06689453,\n",
       "        0.33789062, -0.34570312,  0.12060547, -0.00346375,  0.08300781,\n",
       "       -0.22558594, -0.20507812, -0.0071106 , -0.11083984, -0.12402344,\n",
       "        0.34960938,  0.42578125,  0.32421875,  0.20117188,  0.04467773,\n",
       "       -0.06591797,  0.06396484,  0.13183594, -0.07861328,  0.2421875 ,\n",
       "       -0.40625   , -0.17480469,  0.02270508, -0.08789062,  0.27148438,\n",
       "       -0.06787109, -0.32226562, -0.12255859, -0.21289062,  0.11816406,\n",
       "        0.25585938,  0.05493164,  0.11376953, -0.06591797, -0.48046875,\n",
       "        0.23632812,  0.09619141, -0.09277344, -0.12597656, -0.07666016,\n",
       "        0.30078125, -0.0402832 ,  0.08789062, -0.18359375, -0.32617188,\n",
       "        0.23925781, -0.01251221,  0.02685547,  0.14550781,  0.16113281,\n",
       "       -0.203125  , -0.12207031, -0.24511719, -0.01574707, -0.29296875,\n",
       "        0.25      ,  0.29296875, -0.34179688,  0.20703125, -0.24414062,\n",
       "       -0.10253906, -0.140625  ,  0.15039062, -0.04663086, -0.09326172,\n",
       "        0.01464844,  0.02648926,  0.06835938, -0.16210938, -0.14355469,\n",
       "        0.02539062,  0.15039062,  0.1484375 ,  0.14355469,  0.4765625 ,\n",
       "        0.14648438,  0.23632812, -0.14746094, -0.3984375 ,  0.13085938,\n",
       "       -0.18359375,  0.08935547, -0.03588867, -0.07470703,  0.05834961,\n",
       "       -0.04492188,  0.00668335,  0.13867188,  0.00366211,  0.14355469,\n",
       "       -0.09960938, -0.15136719, -0.15722656, -0.20703125, -0.08789062,\n",
       "        0.1875    ,  0.07519531,  0.02526855, -0.00970459,  0.08251953,\n",
       "        0.19433594,  0.09667969, -0.03613281, -0.140625  ,  0.27539062,\n",
       "        0.16796875,  0.33007812, -0.03613281,  0.01367188, -0.18457031,\n",
       "        0.03881836,  0.02624512, -0.08154297, -0.00212097, -0.02636719,\n",
       "       -0.06005859,  0.18554688, -0.53515625,  0.21875   , -0.04541016,\n",
       "       -0.20800781,  0.02124023, -0.07568359,  0.10009766, -0.05786133,\n",
       "       -0.06884766, -0.21386719,  0.14160156,  0.12792969,  0.09423828,\n",
       "       -0.17480469,  0.42773438, -0.00430298,  0.29101562, -0.20703125,\n",
       "       -0.08447266, -0.01599121, -0.02392578, -0.20019531, -0.47265625,\n",
       "       -0.29882812, -0.28125   , -0.10253906, -0.13671875, -0.36523438,\n",
       "       -0.13085938, -0.1796875 , -0.19140625,  0.22460938, -0.01287842,\n",
       "        0.08691406,  0.08349609,  0.16503906,  0.10498047, -0.05981445,\n",
       "        0.51171875, -0.13867188, -0.05517578,  0.18164062, -0.07128906,\n",
       "        0.40820312, -0.17773438, -0.12158203, -0.2890625 ,  0.16894531,\n",
       "       -0.02722168,  0.10205078,  0.06835938, -0.20507812, -0.08935547,\n",
       "       -0.25      ,  0.36914062, -0.05737305, -0.05639648,  0.16503906,\n",
       "       -0.1640625 , -0.16503906,  0.19433594, -0.17578125, -0.04736328,\n",
       "        0.23925781, -0.06152344,  0.3671875 ,  0.09277344, -0.30273438,\n",
       "        0.04492188,  0.15136719,  0.08886719,  0.1640625 ,  0.02294922,\n",
       "       -0.15917969, -0.10888672, -0.06884766, -0.16503906,  0.12695312,\n",
       "       -0.0189209 , -0.02001953,  0.00759888,  0.12402344, -0.02392578,\n",
       "       -0.12011719, -0.07421875,  0.10107422, -0.3515625 ,  0.09228516,\n",
       "       -0.15527344, -0.01025391,  0.08984375,  0.078125  ,  0.08007812,\n",
       "        0.15820312, -0.16503906, -0.08056641,  0.32226562, -0.13671875,\n",
       "       -0.20117188,  0.07958984,  0.03857422, -0.28320312, -0.04589844,\n",
       "       -0.01867676, -0.45703125, -0.234375  , -0.11621094,  0.2109375 ,\n",
       "        0.09814453, -0.03686523, -0.10205078,  0.02709961, -0.17089844,\n",
       "       -0.07128906,  0.07275391,  0.01586914,  0.12695312, -0.05908203,\n",
       "        0.0088501 , -0.26367188, -0.31445312, -0.12158203,  0.12207031,\n",
       "        0.14941406,  0.203125  ,  0.18066406,  0.09619141, -0.06298828,\n",
       "       -0.26757812,  0.03735352,  0.38671875, -0.21582031,  0.2109375 ,\n",
       "        0.21191406,  0.34765625, -0.0559082 ,  0.14453125,  0.01239014,\n",
       "        0.32421875, -0.00254822, -0.00653076,  0.22070312,  0.13867188],\n",
       "      dtype=float32)"
      ]
     },
     "execution_count": 31,
     "metadata": {},
     "output_type": "execute_result"
    }
   ],
   "source": [
    "#below is the embedding for the word \"king\" There are 300 elements in the below array\n",
    "vec_sun"
   ]
  },
  {
   "cell_type": "code",
   "execution_count": 32,
   "id": "41a3751e",
   "metadata": {},
   "outputs": [
    {
     "data": {
      "text/plain": [
       "(300,)"
      ]
     },
     "execution_count": 32,
     "metadata": {},
     "output_type": "execute_result"
    }
   ],
   "source": [
    "vec_sun.shape"
   ]
  },
  {
   "cell_type": "code",
   "execution_count": 33,
   "id": "e53e020c",
   "metadata": {},
   "outputs": [
    {
     "data": {
      "text/plain": [
       "array([-0.03857422,  0.18945312,  0.20605469,  0.171875  ,  0.05419922,\n",
       "       -0.22460938,  0.4140625 , -0.35351562,  0.21484375,  0.05688477,\n",
       "        0.18847656,  0.15917969, -0.06225586, -0.05029297, -0.00622559,\n",
       "        0.25585938, -0.09423828,  0.00491333,  0.29101562, -0.06030273,\n",
       "       -0.39453125, -0.04077148,  0.16308594, -0.05444336,  0.02514648,\n",
       "        0.07861328, -0.01361084,  0.02746582,  0.43164062,  0.13769531,\n",
       "       -0.41992188, -0.17578125, -0.1796875 ,  0.04174805, -0.08691406,\n",
       "       -0.11279297,  0.01013184, -0.01397705,  0.17773438,  0.01275635,\n",
       "        0.10351562,  0.04711914,  0.41015625,  0.28515625,  0.10791016,\n",
       "       -0.17089844, -0.0559082 , -0.30859375,  0.04321289, -0.03076172,\n",
       "       -0.01202393,  0.24316406, -0.10253906,  0.15039062, -0.12451172,\n",
       "       -0.34765625,  0.43554688, -0.0534668 , -0.04589844, -0.04223633,\n",
       "       -0.0324707 , -0.23144531,  0.11083984,  0.003479  , -0.21777344,\n",
       "        0.07226562, -0.11669922,  0.04516602,  0.13183594,  0.09130859,\n",
       "        0.04052734, -0.296875  ,  0.04663086,  0.14160156, -0.38476562,\n",
       "        0.05322266,  0.11035156,  0.16601562, -0.13867188,  0.234375  ,\n",
       "        0.13964844, -0.11181641,  0.2734375 , -0.43945312, -0.03369141,\n",
       "       -0.15722656,  0.15527344, -0.39257812,  0.35546875,  0.05053711,\n",
       "        0.05859375,  0.00424194, -0.22070312, -0.29492188,  0.04418945,\n",
       "       -0.12158203,  0.37304688, -0.03930664,  0.37890625, -0.03198242,\n",
       "       -0.10351562, -0.06787109,  0.19628906, -0.00276184,  0.05664062,\n",
       "        0.23925781, -0.05249023, -0.00132751, -0.05322266, -0.10253906,\n",
       "       -0.17871094,  0.10400391,  0.12988281,  0.15625   ,  0.04467773,\n",
       "        0.05688477,  0.01037598, -0.02514648, -0.22070312,  0.02722168,\n",
       "       -0.13769531, -0.23730469, -0.01361084, -0.01165771, -0.14257812,\n",
       "       -0.2890625 ,  0.00946045,  0.14355469,  0.30078125,  0.05126953,\n",
       "       -0.06347656, -0.01177979, -0.20996094,  0.08984375, -0.01501465,\n",
       "        0.25195312, -0.04711914, -0.04663086,  0.25      ,  0.421875  ,\n",
       "       -0.078125  , -0.15136719, -0.2421875 ,  0.30078125,  0.15820312,\n",
       "        0.08398438, -0.05371094, -0.12597656,  0.11376953, -0.07666016,\n",
       "        0.24511719, -0.05102539, -0.12402344,  0.01312256,  0.00692749,\n",
       "       -0.41601562,  0.16503906,  0.0546875 ,  0.10058594, -0.0291748 ,\n",
       "       -0.3671875 ,  0.07226562,  0.25585938, -0.14550781, -0.00054169,\n",
       "       -0.28515625,  0.25195312,  0.13671875, -0.19726562,  0.10400391,\n",
       "       -0.04467773,  0.33007812,  0.09619141,  0.34960938, -0.00610352,\n",
       "       -0.22265625, -0.13085938, -0.13378906, -0.12890625, -0.2421875 ,\n",
       "       -0.35546875,  0.01708984, -0.19433594, -0.20019531, -0.06835938,\n",
       "       -0.171875  , -0.15527344,  0.10009766,  0.06445312, -0.10888672,\n",
       "        0.07958984,  0.04443359, -0.05566406, -0.10693359, -0.36328125,\n",
       "        0.296875  ,  0.40625   , -0.0222168 ,  0.07910156, -0.00878906,\n",
       "        0.0324707 , -0.13378906, -0.25390625, -0.26953125,  0.19433594,\n",
       "       -0.06982422,  0.01525879, -0.13085938, -0.31445312,  0.16210938,\n",
       "       -0.24804688,  0.1875    ,  0.09082031, -0.14941406,  0.18261719,\n",
       "        0.04541016,  0.0859375 ,  0.11816406,  0.01806641, -0.2109375 ,\n",
       "        0.34765625,  0.07666016,  0.44921875, -0.05004883,  0.06933594,\n",
       "        0.12792969,  0.0123291 ,  0.08642578,  0.33984375,  0.08203125,\n",
       "        0.37890625, -0.19238281,  0.12792969,  0.0703125 ,  0.20800781,\n",
       "       -0.16015625, -0.27929688, -0.26171875, -0.05761719, -0.27929688,\n",
       "        0.14453125, -0.17382812,  0.04370117, -0.15039062, -0.00323486,\n",
       "       -0.28710938,  0.07910156, -0.03710938,  0.03222656,  0.01470947,\n",
       "       -0.18945312, -0.27148438,  0.25976562,  0.28710938, -0.12597656,\n",
       "       -0.30859375,  0.15039062, -0.265625  , -0.05029297, -0.23632812,\n",
       "       -0.06542969, -0.42578125, -0.19042969, -0.15234375,  0.23828125,\n",
       "        0.12255859, -0.2578125 , -0.23828125,  0.17285156,  0.06494141,\n",
       "       -0.08447266, -0.06103516,  0.34765625,  0.09619141,  0.07519531,\n",
       "        0.20507812, -0.23632812, -0.08056641, -0.14550781, -0.11523438,\n",
       "        0.00805664,  0.30859375,  0.05371094,  0.17675781,  0.33203125,\n",
       "       -0.13867188,  0.09960938, -0.00823975, -0.00436401,  0.06005859,\n",
       "        0.05664062,  0.17089844, -0.2578125 , -0.03979492, -0.10107422,\n",
       "        0.00598145, -0.02539062, -0.3359375 ,  0.1640625 , -0.25390625],\n",
       "      dtype=float32)"
      ]
     },
     "execution_count": 33,
     "metadata": {},
     "output_type": "execute_result"
    }
   ],
   "source": [
    "wv['moon']"
   ]
  },
  {
   "cell_type": "markdown",
   "id": "ada3279c",
   "metadata": {},
   "source": [
    "#### Cosine similarity: \n",
    "- It is defined as angle between two vectors in n-dimensional space. \n",
    "- Cosine distance = 1 - cosine similarity\n",
    "- So vectors created by word2vec are evaluated using cosine similarity.\n",
    "- The score varies between 0 and 1. 0 indicates dissimilarity and 1 indicates similarity."
   ]
  },
  {
   "cell_type": "code",
   "execution_count": 34,
   "id": "18077c89",
   "metadata": {},
   "outputs": [
    {
     "data": {
      "text/plain": [
       "[('sunlight', 0.7269680500030518),\n",
       " ('sun_rays', 0.6871297955513),\n",
       " ('sunshine', 0.6767958402633667),\n",
       " ('sunrays', 0.6644463539123535),\n",
       " ('noonday_sun', 0.6227595806121826),\n",
       " ('rays', 0.601547360420227),\n",
       " ('suns_rays', 0.5943775773048401),\n",
       " ('dried_tomato_basil', 0.582387387752533),\n",
       " ('sun_shining', 0.5802728533744812),\n",
       " ('UV_rays', 0.574922502040863)]"
      ]
     },
     "execution_count": 34,
     "metadata": {},
     "output_type": "execute_result"
    }
   ],
   "source": [
    "#This returns list of tuples with words similar to SUN\n",
    "wv.most_similar('sun')"
   ]
  },
  {
   "cell_type": "code",
   "execution_count": 35,
   "id": "114cb75f",
   "metadata": {},
   "outputs": [
    {
     "data": {
      "text/plain": [
       "0.52073956"
      ]
     },
     "execution_count": 35,
     "metadata": {},
     "output_type": "execute_result"
    }
   ],
   "source": [
    "# This method takes two words and returns the cosine similarity between those two words\n",
    "wv.similarity('python','anaconda')"
   ]
  },
  {
   "cell_type": "markdown",
   "id": "aa11163d",
   "metadata": {},
   "source": [
    "#### Observation:\n",
    "The below operation basically shows how the context of words is retained by word2vec. Do a simple mathematical operation between the vectors of boy, lad and girl and the resultant vector is closest to the word girl. \n",
    "This shows that word2vec vectorization process retains the semantic meaning of the words."
   ]
  },
  {
   "cell_type": "code",
   "execution_count": 36,
   "id": "37cfadca",
   "metadata": {},
   "outputs": [
    {
     "data": {
      "text/plain": [
       "('girl', 0.7991686463356018)"
      ]
     },
     "execution_count": 36,
     "metadata": {},
     "output_type": "execute_result"
    }
   ],
   "source": [
    "vec = wv['boy']-wv['lad']+wv['girl']\n",
    "wv.most_similar([vec])[0]"
   ]
  }
 ],
 "metadata": {
  "kernelspec": {
   "display_name": "Python 3 (ipykernel)",
   "language": "python",
   "name": "python3"
  },
  "language_info": {
   "codemirror_mode": {
    "name": "ipython",
    "version": 3
   },
   "file_extension": ".py",
   "mimetype": "text/x-python",
   "name": "python",
   "nbconvert_exporter": "python",
   "pygments_lexer": "ipython3",
   "version": "3.9.12"
  }
 },
 "nbformat": 4,
 "nbformat_minor": 5
}
